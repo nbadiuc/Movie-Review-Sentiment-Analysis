{
  "cells": [
    {
      "cell_type": "markdown",
      "metadata": {
        "id": "Cgtffot0TPRe"
      },
      "source": [
        "### **PMLDL Assignment 2:** Movie Review Sentiment Analysis"
      ]
    },
    {
      "cell_type": "markdown",
      "metadata": {
        "id": "bM8pWx9aTg4v"
      },
      "source": [
        "IMDB dataset having 50K movie reviews for natural language processing or Text analytics. This is a dataset for binary sentiment classification containing substantially more data than previous benchmark datasets.\n",
        "\n",
        "![alt text](https://www.samyzaf.com/ML/imdb/imdb2.png)"
      ]
    },
    {
      "cell_type": "markdown",
      "metadata": {
        "id": "GV0AvH9DV6U1"
      },
      "source": [
        "In this assignment we are interested in performing a sentiment analysis on the movie reviews. Your tasks are as following:\n",
        "\n",
        "1. **Preprocess** the text and put it in appropriate format (cleaning, tokenization ... as seen in the lab) (20 points)\n",
        "2. Implement **2 models** of your choice (with lstm's , RNN's ...) One with trainable embedding layer and in the second use embeddings from word2vec or Glov in the embedding layer ( you can use library such as gensim) (20 points)\n",
        "3. **Compare** the performance of the two models (5 pts)\n",
        "3. Use **TSNE** or **Umap** to vizualise words and their vectors in the latent space (of the trainable embedding)( 15 points)\n",
        "4. **Report** metrics and loss using tensorbord/comet or any tool you are comfortable with.  (5 points)\n",
        "\n",
        "Clean and documented code (10 points)             \n",
        "Correct method (includes correct loss function , parameters tuning, correct training and testing, accuracy value) 25 points.\n",
        "\n",
        "\n",
        "\n",
        "Remarks :\n",
        "\n",
        "\n",
        "*   Use Pytorch\n",
        "*   Unattached graphs are not counted (0 point)  \n",
        "*   Cheating will result in a severe penalization\n",
        "*   Plagiarism is prohibited\n",
        "\n",
        "\n"
      ]
    },
    {
      "cell_type": "markdown",
      "metadata": {
        "id": "WguYNQxyi17j"
      },
      "source": [
        "## Reading Data & Preprocessing"
      ]
    },
    {
      "cell_type": "code",
      "execution_count": null,
      "metadata": {
        "id": "qyl19Vgeh-W6",
        "outputId": "f5d50302-540e-4f16-8abd-6c08ab6aa3a0"
      },
      "outputs": [
        {
          "name": "stdout",
          "output_type": "stream",
          "text": [
            "GPU is available\n"
          ]
        }
      ],
      "source": [
        "import torch\n",
        "\n",
        "# checking if GPU is available\n",
        "is_cuda = torch.cuda.is_available()\n",
        "\n",
        "if is_cuda:\n",
        "    device = torch.device(\"cuda:1\")\n",
        "    print(\"GPU is available\")\n",
        "else:\n",
        "    device = torch.device(\"cpu\")\n",
        "    print(\"GPU not available, CPU used\")"
      ]
    },
    {
      "cell_type": "code",
      "execution_count": null,
      "metadata": {
        "id": "UrEY9e0wh-W8",
        "outputId": "aaafead0-e866-48bf-b1bb-6ed636650fc6"
      },
      "outputs": [
        {
          "data": {
            "text/plain": [
              "'NVIDIA GeForce RTX 3060 Laptop GPU'"
            ]
          },
          "execution_count": 2,
          "metadata": {},
          "output_type": "execute_result"
        }
      ],
      "source": [
        "torch.cuda.get_device_name()"
      ]
    },
    {
      "cell_type": "code",
      "execution_count": null,
      "metadata": {
        "id": "M-dcoZqrh-W9",
        "outputId": "e767006f-5bf2-466f-e888-3396e4cf60b4"
      },
      "outputs": [
        {
          "data": {
            "text/html": [
              "<div>\n",
              "<style scoped>\n",
              "    .dataframe tbody tr th:only-of-type {\n",
              "        vertical-align: middle;\n",
              "    }\n",
              "\n",
              "    .dataframe tbody tr th {\n",
              "        vertical-align: top;\n",
              "    }\n",
              "\n",
              "    .dataframe thead th {\n",
              "        text-align: right;\n",
              "    }\n",
              "</style>\n",
              "<table border=\"1\" class=\"dataframe\">\n",
              "  <thead>\n",
              "    <tr style=\"text-align: right;\">\n",
              "      <th></th>\n",
              "      <th>review</th>\n",
              "      <th>sentiment</th>\n",
              "    </tr>\n",
              "  </thead>\n",
              "  <tbody>\n",
              "    <tr>\n",
              "      <th>0</th>\n",
              "      <td>One of the other reviewers has mentioned that ...</td>\n",
              "      <td>positive</td>\n",
              "    </tr>\n",
              "    <tr>\n",
              "      <th>1</th>\n",
              "      <td>A wonderful little production. &lt;br /&gt;&lt;br /&gt;The...</td>\n",
              "      <td>positive</td>\n",
              "    </tr>\n",
              "    <tr>\n",
              "      <th>2</th>\n",
              "      <td>I thought this was a wonderful way to spend ti...</td>\n",
              "      <td>positive</td>\n",
              "    </tr>\n",
              "    <tr>\n",
              "      <th>3</th>\n",
              "      <td>Basically there's a family where a little boy ...</td>\n",
              "      <td>negative</td>\n",
              "    </tr>\n",
              "    <tr>\n",
              "      <th>4</th>\n",
              "      <td>Petter Mattei's \"Love in the Time of Money\" is...</td>\n",
              "      <td>positive</td>\n",
              "    </tr>\n",
              "  </tbody>\n",
              "</table>\n",
              "</div>"
            ],
            "text/plain": [
              "                                              review sentiment\n",
              "0  One of the other reviewers has mentioned that ...  positive\n",
              "1  A wonderful little production. <br /><br />The...  positive\n",
              "2  I thought this was a wonderful way to spend ti...  positive\n",
              "3  Basically there's a family where a little boy ...  negative\n",
              "4  Petter Mattei's \"Love in the Time of Money\" is...  positive"
            ]
          },
          "execution_count": 3,
          "metadata": {},
          "output_type": "execute_result"
        }
      ],
      "source": [
        "import pandas as pd\n",
        "import numpy as np\n",
        "# reading dataset from csv file downloaded from here: https://www.kaggle.com/lakshmi25npathi/imdb-dataset-of-50k-movie-reviews\n",
        "df = pd.read_csv('imdb_dataset.csv')\n",
        "df.head()"
      ]
    },
    {
      "cell_type": "code",
      "execution_count": null,
      "metadata": {
        "id": "IvAEV5C8h-W-"
      },
      "outputs": [],
      "source": [
        "x = df['review'].values\n",
        "y = df['sentiment'].values"
      ]
    },
    {
      "cell_type": "code",
      "execution_count": null,
      "metadata": {
        "id": "qJRJfPlHh-W-",
        "outputId": "8ace2803-a589-40bb-84fc-04a699b4de54"
      },
      "outputs": [
        {
          "name": "stderr",
          "output_type": "stream",
          "text": [
            "[nltk_data] Downloading package stopwords to\n",
            "[nltk_data]     C:\\Users\\pavlo\\AppData\\Roaming\\nltk_data...\n",
            "[nltk_data]   Package stopwords is already up-to-date!\n"
          ]
        }
      ],
      "source": [
        "import nltk\n",
        "from nltk.corpus import stopwords\n",
        "nltk.download('stopwords')\n",
        "STOPWORDS = set(stopwords.words('english'))\n",
        "import nltk.tokenize as tokenization\n",
        "\n",
        "def clean_and_tokenize_text(text):\n",
        "\n",
        "    text = text.lower() # lowercasing the text\n",
        "\n",
        "    # cleaning the text from special for the domain but meaningless in terms of sentiment analysis symbols\n",
        "    text = text.replace('<br /><br />', ' ')\n",
        "    text = text.replace('\\'', ' ')\n",
        "    for symbol in '[/(){}\\[\\]\\|@,;]':\n",
        "        text = text.replace(symbol, '')\n",
        "\n",
        "    # tokenizing the text\n",
        "    text = ' '.join(word for word in text.split() if word not in STOPWORDS) # remove stopwords from text\n",
        "    text = tokenization.word_tokenize(text)\n",
        "    return text"
      ]
    },
    {
      "cell_type": "code",
      "execution_count": null,
      "metadata": {
        "id": "FsMkJ-57h-W_"
      },
      "outputs": [],
      "source": [
        "for i in range(x.shape[0]):\n",
        "    x[i] = clean_and_tokenize_text(x[i])"
      ]
    },
    {
      "cell_type": "code",
      "execution_count": null,
      "metadata": {
        "id": "ArLoApQ1h-W_"
      },
      "outputs": [],
      "source": [
        "for i in range(y.shape[0]):\n",
        "    if y[i] == \"positive\":\n",
        "        y[i] = 1\n",
        "    else:\n",
        "        y[i] = 0"
      ]
    },
    {
      "cell_type": "markdown",
      "metadata": {
        "id": "OYtf83xGi7eh"
      },
      "source": [
        "## Prepare training and testing data"
      ]
    },
    {
      "cell_type": "code",
      "execution_count": null,
      "metadata": {
        "id": "T55sW61Ii6XN"
      },
      "outputs": [],
      "source": [
        "from sklearn.model_selection import train_test_split\n",
        "x_train, x_test, y_train, y_test = train_test_split(x, y, test_size = 0.20)"
      ]
    },
    {
      "cell_type": "code",
      "execution_count": null,
      "metadata": {
        "id": "p_s8OXbyjTSH"
      },
      "outputs": [],
      "source": [
        "from keras.preprocessing.text import Tokenizer\n",
        "from keras.preprocessing.sequence import pad_sequences\n",
        "\n",
        "tokenizer = Tokenizer()\n",
        "tokenizer.fit_on_texts(x)"
      ]
    },
    {
      "cell_type": "code",
      "execution_count": null,
      "metadata": {
        "id": "49AIRy7rh-XC"
      },
      "outputs": [],
      "source": [
        "# x_train1 and x_test1 are x_train and x_test modifications prepared specifically for the 1st model\n",
        "x_train1 = tokenizer.texts_to_sequences(x_train)\n",
        "x_test1 = tokenizer.texts_to_sequences(x_test)"
      ]
    },
    {
      "cell_type": "code",
      "execution_count": null,
      "metadata": {
        "id": "YTNeIKLyh-XC"
      },
      "outputs": [],
      "source": [
        "maxlen = 250 # only keep 250 words from each review; if there are less, use padding\n",
        "x_train1 = pad_sequences(x_train1, maxlen=maxlen)\n",
        "x_test1 = pad_sequences(x_test1, maxlen=maxlen)"
      ]
    },
    {
      "cell_type": "code",
      "execution_count": null,
      "metadata": {
        "id": "mltIbq0ph-XC"
      },
      "outputs": [],
      "source": [
        "x_train1 = x_train1.astype('int32')\n",
        "x_test1 = x_test1.astype('int32')\n",
        "y_train = y_train.astype('float32')\n",
        "y_test = y_test.astype('float32')"
      ]
    },
    {
      "cell_type": "code",
      "execution_count": null,
      "metadata": {
        "id": "Sir_ehvYh-XC"
      },
      "outputs": [],
      "source": [
        "import torch\n",
        "from torch.utils.data import TensorDataset, DataLoader\n",
        "\n",
        "train_data1 = TensorDataset(torch.from_numpy(x_train1), torch.from_numpy(y_train))\n",
        "test_data1 = TensorDataset(torch.from_numpy(x_test1), torch.from_numpy(y_test))\n",
        "\n",
        "batch_size = 50\n",
        "\n",
        "train_loader1 = DataLoader(train_data1, shuffle=True, batch_size=batch_size)\n",
        "test_loader1 = DataLoader(test_data1, shuffle=True, batch_size=batch_size)"
      ]
    },
    {
      "cell_type": "code",
      "execution_count": null,
      "metadata": {
        "id": "LuDzCm9Th-XC"
      },
      "outputs": [],
      "source": [
        "from gensim.models import Word2Vec\n",
        "vector_size = 100 # size of embeddings\n",
        "word2vec = Word2Vec(sentences = x, vector_size = vector_size)"
      ]
    },
    {
      "cell_type": "code",
      "execution_count": null,
      "metadata": {
        "id": "0IbgPoLph-XC"
      },
      "outputs": [],
      "source": [
        "# use word2vec embeddings to transform dataset x\n",
        "# pad each review to size maxlen\n",
        "def padding_embeddings(x, word2vec, maxlen, vector_size):\n",
        "    res = []\n",
        "    for review_ind in range(len(x)):\n",
        "        review_embedding = []\n",
        "        for word_ind in range(len(x[review_ind])):\n",
        "            if word_ind < maxlen:\n",
        "                word = x[review_ind][word_ind]\n",
        "                try:\n",
        "                    review_embedding.append(word2vec.wv[word])\n",
        "                except KeyError:\n",
        "                    review_embedding.append([0] * vector_size)\n",
        "        for i in range(maxlen - len(review_embedding)):\n",
        "            review_embedding.append([0] * vector_size)\n",
        "        res.append(review_embedding)\n",
        "    return res"
      ]
    },
    {
      "cell_type": "code",
      "execution_count": null,
      "metadata": {
        "id": "X3UvFmBch-XD"
      },
      "outputs": [],
      "source": [
        "# x_train2 and x_test2 are x_train and x_test modifications prepared specifically for the 2nd model\n",
        "x_train2 = padding_embeddings(x_train, word2vec, 200, vector_size)\n",
        "x_test2 = padding_embeddings(x_test, word2vec, 200, vector_size)"
      ]
    },
    {
      "cell_type": "code",
      "execution_count": null,
      "metadata": {
        "id": "Xil1SBPUh-XD"
      },
      "outputs": [],
      "source": [
        "x_train2 = np.array(x_train2, dtype = \"float32\")\n",
        "x_test2 = np.array(x_test2, dtype = \"float32\")"
      ]
    },
    {
      "cell_type": "code",
      "execution_count": null,
      "metadata": {
        "id": "JLMegfy4h-XD"
      },
      "outputs": [],
      "source": [
        "train_data2 = TensorDataset(torch.from_numpy(x_train2), torch.from_numpy(y_train))\n",
        "test_data2 = TensorDataset(torch.from_numpy(x_test2), torch.from_numpy(y_test))\n",
        "\n",
        "batch_size = 50\n",
        "\n",
        "train_loader2 = DataLoader(train_data2, shuffle=True, batch_size=batch_size)\n",
        "test_loader2 = DataLoader(test_data2, shuffle=True, batch_size=batch_size)"
      ]
    },
    {
      "cell_type": "markdown",
      "metadata": {
        "id": "9Q0seTIhjNqv"
      },
      "source": [
        "## Models"
      ]
    },
    {
      "cell_type": "code",
      "execution_count": null,
      "metadata": {
        "id": "DmBoKz1nh-XD"
      },
      "outputs": [],
      "source": [
        "import torch\n",
        "import torch.nn as nn\n",
        "import torch.nn.functional as F\n",
        "import torch.optim as optim\n",
        "\n",
        "EMBEDDING_DIM = 200\n",
        "HIDDEN_DIM = 70\n",
        "VOCAB_SIZE = len(tokenizer.word_index) + 1\n",
        "\n",
        "class trainable_embedding_model(torch.nn.Module) :\n",
        "    def __init__(self, embedding_dim, hidden_dim, vocab_size) :\n",
        "        super().__init__()\n",
        "        self.embeddings = nn.Embedding(vocab_size, embedding_dim, padding_idx=0)\n",
        "        self.dropout = nn.Dropout(0.2)\n",
        "        self.lstm = nn.LSTM(embedding_dim, hidden_dim, batch_first=True)\n",
        "        self.linear = nn.Linear(hidden_dim, 1)\n",
        "\n",
        "    def forward(self, x):\n",
        "        x = self.embeddings(x)\n",
        "        x = self.dropout(x)\n",
        "        lstm_out, (ht, ct) = self.lstm(x)\n",
        "        return torch.sigmoid(self.linear(ht[-1]))\n",
        "\n",
        "    def return_embeddings(self, x):\n",
        "        return self.embeddings(x)"
      ]
    },
    {
      "cell_type": "code",
      "execution_count": null,
      "metadata": {
        "id": "nlrPrbl7h-XD"
      },
      "outputs": [],
      "source": [
        "model1 = trainable_embedding_model(EMBEDDING_DIM, HIDDEN_DIM, VOCAB_SIZE)\n",
        "loss_function = nn.BCELoss()\n",
        "optimizer = optim.SGD(model1.parameters(), lr = 0.1)"
      ]
    },
    {
      "cell_type": "code",
      "execution_count": null,
      "metadata": {
        "id": "GSrhT-JTh-XE"
      },
      "outputs": [],
      "source": [
        "class word2vec_model(torch.nn.Module) :\n",
        "    def __init__(self, embedding_dim, hidden_dim) :\n",
        "        super().__init__()\n",
        "        self.lstm = nn.LSTM(embedding_dim, hidden_dim, batch_first=True)\n",
        "        self.dropout = nn.Dropout(0.2)\n",
        "        self.linear = nn.Linear(hidden_dim, 1)\n",
        "\n",
        "    def forward(self, x):\n",
        "        x = self.dropout(x)\n",
        "        lstm_out, (ht, ct) = self.lstm(x)\n",
        "        return torch.sigmoid(self.linear(ht[-1]))"
      ]
    },
    {
      "cell_type": "code",
      "execution_count": null,
      "metadata": {
        "id": "FEW4qo8sh-XE"
      },
      "outputs": [],
      "source": [
        "model2 = word2vec_model(vector_size, 50)\n",
        "optimizer2 = optim.Adam(model2.parameters(), lr = 0.0002)"
      ]
    },
    {
      "cell_type": "markdown",
      "metadata": {
        "id": "7n84WI2LjS0N"
      },
      "source": [
        "## Train & Test\n",
        "\n"
      ]
    },
    {
      "cell_type": "code",
      "execution_count": null,
      "metadata": {
        "id": "M5oVylVSh-XE"
      },
      "outputs": [],
      "source": [
        "def train(model, train_loader, optimizer):\n",
        "    i = 0\n",
        "    for sentence, label in train_loader:\n",
        "        model.zero_grad()\n",
        "        tag_scores = model(sentence)\n",
        "        label = np.reshape(label, [batch_size, 1])\n",
        "        loss = loss_function(tag_scores, label)\n",
        "        loss.backward()\n",
        "        optimizer.step()\n",
        "        i += 50\n",
        "        if i % 5000 == 0:\n",
        "            print(str(i) + \"/40000\")\n",
        "\n",
        "\n",
        "def test(model, valid_dl):\n",
        "    model.eval()\n",
        "    correct = 0\n",
        "    total = 0\n",
        "    sum_loss = 0.0\n",
        "    sum_rmse = 0.0\n",
        "    with torch.no_grad():\n",
        "        for x, y in valid_dl:\n",
        "            y_hat = model(x)\n",
        "            y = np.reshape(y, [batch_size, 1])\n",
        "            loss = loss_function(y_hat, y)\n",
        "            pred = torch.max(y_hat, 1)[1]\n",
        "            total += y.shape[0]\n",
        "            sum_loss += loss.item() * y.shape[0]\n",
        "            for i in range(batch_size):\n",
        "                if abs(y[i] - y_hat[i]) < 0.5:\n",
        "                    correct += 1\n",
        "\n",
        "    print(\"sum_loss:\", sum_loss)\n",
        "    print(\"accuracy:\", correct/total)"
      ]
    },
    {
      "cell_type": "code",
      "execution_count": null,
      "metadata": {
        "id": "OfZJ0FSrjaJ3",
        "outputId": "70ed3208-1e63-4bd2-8384-209d3ce9dd2a"
      },
      "outputs": [
        {
          "name": "stdout",
          "output_type": "stream",
          "text": [
            "epoch 1\n",
            "5000/40000\n",
            "10000/40000\n",
            "15000/40000\n",
            "20000/40000\n",
            "25000/40000\n",
            "30000/40000\n",
            "35000/40000\n",
            "40000/40000\n",
            "sum_loss: 6648.838910460472\n",
            "accuracy: 0.5899\n",
            "epoch 2\n",
            "5000/40000\n",
            "10000/40000\n",
            "15000/40000\n",
            "20000/40000\n",
            "25000/40000\n",
            "30000/40000\n",
            "35000/40000\n",
            "40000/40000\n",
            "sum_loss: 5837.502163648605\n",
            "accuracy: 0.6802\n",
            "epoch 3\n",
            "5000/40000\n",
            "10000/40000\n",
            "15000/40000\n",
            "20000/40000\n",
            "25000/40000\n",
            "30000/40000\n",
            "35000/40000\n",
            "40000/40000\n",
            "sum_loss: 4895.749546587467\n",
            "accuracy: 0.7652\n",
            "epoch 4\n",
            "5000/40000\n",
            "10000/40000\n",
            "15000/40000\n",
            "20000/40000\n",
            "25000/40000\n",
            "30000/40000\n",
            "35000/40000\n",
            "40000/40000\n",
            "sum_loss: 4383.436493575573\n",
            "accuracy: 0.7986\n",
            "epoch 5\n",
            "5000/40000\n",
            "10000/40000\n",
            "15000/40000\n",
            "20000/40000\n",
            "25000/40000\n",
            "30000/40000\n",
            "35000/40000\n",
            "40000/40000\n",
            "sum_loss: 5345.810254663229\n",
            "accuracy: 0.7646\n",
            "epoch 6\n",
            "5000/40000\n",
            "10000/40000\n",
            "15000/40000\n",
            "20000/40000\n",
            "25000/40000\n",
            "30000/40000\n",
            "35000/40000\n",
            "40000/40000\n",
            "sum_loss: 4091.991976648569\n",
            "accuracy: 0.8198\n",
            "epoch 7\n",
            "5000/40000\n",
            "10000/40000\n",
            "15000/40000\n",
            "20000/40000\n",
            "25000/40000\n",
            "30000/40000\n",
            "35000/40000\n",
            "40000/40000\n",
            "sum_loss: 4132.701239734888\n",
            "accuracy: 0.8159\n"
          ]
        }
      ],
      "source": [
        "for epoch in range(7):\n",
        "    print(\"epoch \" + str(epoch + 1))\n",
        "    train(model1, train_loader1, optimizer)\n",
        "    test(model1, test_loader1)"
      ]
    },
    {
      "cell_type": "code",
      "execution_count": null,
      "metadata": {
        "id": "xJgnjW_zh-XF",
        "outputId": "cb4b3bad-c3ec-45dd-8a1e-386d290f3326"
      },
      "outputs": [
        {
          "name": "stdout",
          "output_type": "stream",
          "text": [
            "epoch 1\n",
            "5000/40000\n",
            "10000/40000\n",
            "15000/40000\n",
            "20000/40000\n",
            "25000/40000\n",
            "30000/40000\n",
            "35000/40000\n",
            "40000/40000\n",
            "sum_loss: 6846.103611588478\n",
            "accuracy: 0.5229\n",
            "epoch 2\n",
            "5000/40000\n",
            "10000/40000\n",
            "15000/40000\n",
            "20000/40000\n",
            "25000/40000\n",
            "30000/40000\n",
            "35000/40000\n",
            "40000/40000\n",
            "sum_loss: 5635.551688075066\n",
            "accuracy: 0.7381\n",
            "epoch 3\n",
            "5000/40000\n",
            "10000/40000\n",
            "15000/40000\n",
            "20000/40000\n",
            "25000/40000\n",
            "30000/40000\n",
            "35000/40000\n",
            "40000/40000\n",
            "sum_loss: 6063.335801661015\n",
            "accuracy: 0.6652\n",
            "epoch 4\n",
            "5000/40000\n",
            "10000/40000\n",
            "15000/40000\n",
            "20000/40000\n",
            "25000/40000\n",
            "30000/40000\n",
            "35000/40000\n",
            "40000/40000\n",
            "sum_loss: 5513.767635822296\n",
            "accuracy: 0.7573\n",
            "epoch 5\n",
            "5000/40000\n",
            "10000/40000\n",
            "15000/40000\n",
            "20000/40000\n",
            "25000/40000\n",
            "30000/40000\n",
            "35000/40000\n",
            "40000/40000\n",
            "sum_loss: 5595.515322685242\n",
            "accuracy: 0.7369\n",
            "epoch 6\n",
            "5000/40000\n",
            "10000/40000\n",
            "15000/40000\n",
            "20000/40000\n",
            "25000/40000\n",
            "30000/40000\n",
            "35000/40000\n",
            "40000/40000\n",
            "sum_loss: 6030.070298910141\n",
            "accuracy: 0.6928\n",
            "epoch 7\n",
            "5000/40000\n",
            "10000/40000\n",
            "15000/40000\n",
            "20000/40000\n",
            "25000/40000\n",
            "30000/40000\n",
            "35000/40000\n",
            "40000/40000\n",
            "sum_loss: 5126.0120287537575\n",
            "accuracy: 0.7876\n"
          ]
        }
      ],
      "source": [
        "for epoch in range(7):\n",
        "    print(\"epoch \" + str(epoch + 1))\n",
        "    train(model2, train_loader2, optimizer2)\n",
        "    test(model2, test_loader2)"
      ]
    },
    {
      "cell_type": "markdown",
      "metadata": {
        "id": "bjX3C0hXjTy3"
      },
      "source": [
        "## Visualizations"
      ]
    },
    {
      "cell_type": "code",
      "execution_count": null,
      "metadata": {
        "id": "XHNg4lkDh-XG",
        "outputId": "8dfdec92-5292-4bac-8f6f-b0191c2873c9"
      },
      "outputs": [
        {
          "name": "stdout",
          "output_type": "stream",
          "text": [
            "[('.', 1), ('movie', 2), ('film', 3), (\"''\", 4), ('``', 5), ('one', 6), ('!', 7), ('like', 8), ('?', 9), ('good', 10)]\n"
          ]
        }
      ],
      "source": [
        "# visualizing the trainable embeddings for the 20 most popular tokens using TSNE\n",
        "\n",
        "import ast\n",
        "tokenizer_config = tokenizer.get_config()\n",
        "words_indices = ast.literal_eval(tokenizer_config[\"word_index\"])\n",
        "print(list(words_indices.items())[:10])"
      ]
    },
    {
      "cell_type": "code",
      "execution_count": null,
      "metadata": {
        "id": "BSR5QR-Ch-XG"
      },
      "outputs": [],
      "source": [
        "words_embeddings = {}\n",
        "for word, index in list(words_indices.items())[:10000]:\n",
        "    index = torch.tensor(index)\n",
        "    embedding = model1.return_embeddings(index)\n",
        "    words_embeddings[word] = embedding"
      ]
    },
    {
      "cell_type": "code",
      "execution_count": null,
      "metadata": {
        "id": "TMoD5Dwwh-XG"
      },
      "outputs": [],
      "source": [
        "words = list(words_embeddings.keys())\n",
        "embeddings = list(words_embeddings.values())"
      ]
    },
    {
      "cell_type": "code",
      "execution_count": null,
      "metadata": {
        "id": "TLTzuWg5h-XH"
      },
      "outputs": [],
      "source": [
        "for i in range(len(embeddings)):\n",
        "    embeddings[i] = embeddings[i].tolist()\n",
        "embeddings = np.array(embeddings)"
      ]
    },
    {
      "cell_type": "code",
      "execution_count": null,
      "metadata": {
        "id": "f3KVCEJMh-XH"
      },
      "outputs": [],
      "source": [
        "from sklearn.manifold import TSNE\n",
        "squeezed_embeddings = TSNE(n_components=2).fit_transform(embeddings)"
      ]
    },
    {
      "cell_type": "code",
      "execution_count": null,
      "metadata": {
        "id": "GBr8l2hEh-XH",
        "outputId": "75f470d5-53c9-4133-9f1c-bffd9f4ab4f3"
      },
      "outputs": [
        {
          "data": {
            "image/png": "[encoded data removed]",
            "text/plain": [
              "<Figure size 432x288 with 1 Axes>"
            ]
          },
          "metadata": {
            "needs_background": "light"
          },
          "output_type": "display_data"
        }
      ],
      "source": [
        "from matplotlib import pyplot as plt\n",
        "\n",
        "fig, ax = plt.subplots()\n",
        "ax.scatter(squeezed_embeddings[:20, 0], squeezed_embeddings[:20, 1])\n",
        "\n",
        "for i, txt in enumerate(words[:20]):\n",
        "    ax.annotate(words[i], (squeezed_embeddings[i][0], squeezed_embeddings[i][1]))"
      ]
    }
  ],
  "metadata": {
    "colab": {
      "provenance": []
    },
    "kernelspec": {
      "display_name": "Python 3 (ipykernel)",
      "language": "python",
      "name": "python3"
    },
    "language_info": {
      "codemirror_mode": {
        "name": "ipython",
        "version": 3
      },
      "file_extension": ".py",
      "mimetype": "text/x-python",
      "name": "python",
      "nbconvert_exporter": "python",
      "pygments_lexer": "ipython3",
      "version": "3.8.11"
    }
  },
  "nbformat": 4,
  "nbformat_minor": 0
}